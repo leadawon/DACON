{
 "cells": [
  {
   "cell_type": "code",
   "execution_count": 45,
   "metadata": {},
   "outputs": [],
   "source": [
    "import os\n",
    "os.environ['CUDA_VISIBLE_DEVICES'] = '4'\n",
    "import pandas as pd\n",
    "import numpy as np\n",
    "import random\n",
    "\n",
    "from datetime import datetime\n",
    "import json\n",
    "from sklearn.preprocessing import LabelEncoder\n",
    "from sklearn.linear_model import Lasso"
   ]
  },
  {
   "cell_type": "code",
   "execution_count": 46,
   "metadata": {},
   "outputs": [],
   "source": [
    "def seed_everything(seed):\n",
    "    random.seed(seed)\n",
    "    os.environ['PYTHONHASHSEED'] = str(seed)\n",
    "    np.random.seed(seed)\n",
    "\n",
    "seed_everything(42) # Seed 고정"
   ]
  },
  {
   "cell_type": "code",
   "execution_count": 47,
   "metadata": {},
   "outputs": [],
   "source": [
    "df_train = pd.read_csv('./bigdata/train.csv')\n",
    "df_test = pd.read_csv('./bigdata/test.csv')"
   ]
  },
  {
   "cell_type": "code",
   "execution_count": 48,
   "metadata": {},
   "outputs": [
    {
     "data": {
      "text/html": [
       "<div>\n",
       "<style scoped>\n",
       "    .dataframe tbody tr th:only-of-type {\n",
       "        vertical-align: middle;\n",
       "    }\n",
       "\n",
       "    .dataframe tbody tr th {\n",
       "        vertical-align: top;\n",
       "    }\n",
       "\n",
       "    .dataframe thead th {\n",
       "        text-align: right;\n",
       "    }\n",
       "</style>\n",
       "<table border=\"1\" class=\"dataframe\">\n",
       "  <thead>\n",
       "    <tr style=\"text-align: right;\">\n",
       "      <th></th>\n",
       "      <th>sessionID</th>\n",
       "      <th>userID</th>\n",
       "      <th>TARGET</th>\n",
       "      <th>browser</th>\n",
       "      <th>OS</th>\n",
       "      <th>device</th>\n",
       "      <th>new</th>\n",
       "      <th>quality</th>\n",
       "      <th>duration</th>\n",
       "      <th>bounced</th>\n",
       "      <th>transaction</th>\n",
       "      <th>transaction_revenue</th>\n",
       "      <th>continent</th>\n",
       "      <th>subcontinent</th>\n",
       "      <th>country</th>\n",
       "      <th>traffic_source</th>\n",
       "      <th>traffic_medium</th>\n",
       "      <th>keyword</th>\n",
       "      <th>referral_path</th>\n",
       "    </tr>\n",
       "  </thead>\n",
       "  <tbody>\n",
       "    <tr>\n",
       "      <th>0</th>\n",
       "      <td>SESSION_000000</td>\n",
       "      <td>USER_000000</td>\n",
       "      <td>17.0</td>\n",
       "      <td>Chrome</td>\n",
       "      <td>Macintosh</td>\n",
       "      <td>desktop</td>\n",
       "      <td>0</td>\n",
       "      <td>45.0</td>\n",
       "      <td>839.0</td>\n",
       "      <td>0</td>\n",
       "      <td>0.0</td>\n",
       "      <td>0.0</td>\n",
       "      <td>Americas</td>\n",
       "      <td>Northern America</td>\n",
       "      <td>United States</td>\n",
       "      <td>google</td>\n",
       "      <td>organic</td>\n",
       "      <td>Category8</td>\n",
       "      <td>NaN</td>\n",
       "    </tr>\n",
       "    <tr>\n",
       "      <th>1</th>\n",
       "      <td>SESSION_000001</td>\n",
       "      <td>USER_000001</td>\n",
       "      <td>3.0</td>\n",
       "      <td>Chrome</td>\n",
       "      <td>Windows</td>\n",
       "      <td>desktop</td>\n",
       "      <td>1</td>\n",
       "      <td>1.0</td>\n",
       "      <td>39.0</td>\n",
       "      <td>0</td>\n",
       "      <td>0.0</td>\n",
       "      <td>0.0</td>\n",
       "      <td>Europe</td>\n",
       "      <td>Western Europe</td>\n",
       "      <td>Germany</td>\n",
       "      <td>google</td>\n",
       "      <td>organic</td>\n",
       "      <td>Category8</td>\n",
       "      <td>NaN</td>\n",
       "    </tr>\n",
       "    <tr>\n",
       "      <th>2</th>\n",
       "      <td>SESSION_000002</td>\n",
       "      <td>USER_000002</td>\n",
       "      <td>1.0</td>\n",
       "      <td>Samsung Internet</td>\n",
       "      <td>Android</td>\n",
       "      <td>mobile</td>\n",
       "      <td>1</td>\n",
       "      <td>1.0</td>\n",
       "      <td>0.0</td>\n",
       "      <td>1</td>\n",
       "      <td>0.0</td>\n",
       "      <td>0.0</td>\n",
       "      <td>Asia</td>\n",
       "      <td>Southeast Asia</td>\n",
       "      <td>Malaysia</td>\n",
       "      <td>(direct)</td>\n",
       "      <td>(none)</td>\n",
       "      <td>NaN</td>\n",
       "      <td>NaN</td>\n",
       "    </tr>\n",
       "    <tr>\n",
       "      <th>3</th>\n",
       "      <td>SESSION_000003</td>\n",
       "      <td>USER_000003</td>\n",
       "      <td>1.0</td>\n",
       "      <td>Chrome</td>\n",
       "      <td>Macintosh</td>\n",
       "      <td>desktop</td>\n",
       "      <td>1</td>\n",
       "      <td>1.0</td>\n",
       "      <td>0.0</td>\n",
       "      <td>1</td>\n",
       "      <td>0.0</td>\n",
       "      <td>0.0</td>\n",
       "      <td>Americas</td>\n",
       "      <td>Northern America</td>\n",
       "      <td>United States</td>\n",
       "      <td>Partners</td>\n",
       "      <td>affiliate</td>\n",
       "      <td>NaN</td>\n",
       "      <td>NaN</td>\n",
       "    </tr>\n",
       "    <tr>\n",
       "      <th>4</th>\n",
       "      <td>SESSION_000004</td>\n",
       "      <td>USER_000004</td>\n",
       "      <td>1.0</td>\n",
       "      <td>Chrome</td>\n",
       "      <td>iOS</td>\n",
       "      <td>mobile</td>\n",
       "      <td>0</td>\n",
       "      <td>1.0</td>\n",
       "      <td>0.0</td>\n",
       "      <td>1</td>\n",
       "      <td>0.0</td>\n",
       "      <td>0.0</td>\n",
       "      <td>Americas</td>\n",
       "      <td>Northern America</td>\n",
       "      <td>United States</td>\n",
       "      <td>groups.google.com</td>\n",
       "      <td>referral</td>\n",
       "      <td>NaN</td>\n",
       "      <td>Category6_Path_0000</td>\n",
       "    </tr>\n",
       "  </tbody>\n",
       "</table>\n",
       "</div>"
      ],
      "text/plain": [
       "        sessionID       userID  TARGET           browser         OS   device  \\\n",
       "0  SESSION_000000  USER_000000    17.0            Chrome  Macintosh  desktop   \n",
       "1  SESSION_000001  USER_000001     3.0            Chrome    Windows  desktop   \n",
       "2  SESSION_000002  USER_000002     1.0  Samsung Internet    Android   mobile   \n",
       "3  SESSION_000003  USER_000003     1.0            Chrome  Macintosh  desktop   \n",
       "4  SESSION_000004  USER_000004     1.0            Chrome        iOS   mobile   \n",
       "\n",
       "   new  quality  duration  bounced  transaction  transaction_revenue  \\\n",
       "0    0     45.0     839.0        0          0.0                  0.0   \n",
       "1    1      1.0      39.0        0          0.0                  0.0   \n",
       "2    1      1.0       0.0        1          0.0                  0.0   \n",
       "3    1      1.0       0.0        1          0.0                  0.0   \n",
       "4    0      1.0       0.0        1          0.0                  0.0   \n",
       "\n",
       "  continent      subcontinent        country     traffic_source  \\\n",
       "0  Americas  Northern America  United States             google   \n",
       "1    Europe    Western Europe        Germany             google   \n",
       "2      Asia    Southeast Asia       Malaysia           (direct)   \n",
       "3  Americas  Northern America  United States           Partners   \n",
       "4  Americas  Northern America  United States  groups.google.com   \n",
       "\n",
       "  traffic_medium    keyword        referral_path  \n",
       "0        organic  Category8                  NaN  \n",
       "1        organic  Category8                  NaN  \n",
       "2         (none)        NaN                  NaN  \n",
       "3      affiliate        NaN                  NaN  \n",
       "4       referral        NaN  Category6_Path_0000  "
      ]
     },
     "execution_count": 48,
     "metadata": {},
     "output_type": "execute_result"
    }
   ],
   "source": [
    "df_train.head()"
   ]
  },
  {
   "cell_type": "code",
   "execution_count": 49,
   "metadata": {},
   "outputs": [
    {
     "data": {
      "text/html": [
       "<div>\n",
       "<style scoped>\n",
       "    .dataframe tbody tr th:only-of-type {\n",
       "        vertical-align: middle;\n",
       "    }\n",
       "\n",
       "    .dataframe tbody tr th {\n",
       "        vertical-align: top;\n",
       "    }\n",
       "\n",
       "    .dataframe thead th {\n",
       "        text-align: right;\n",
       "    }\n",
       "</style>\n",
       "<table border=\"1\" class=\"dataframe\">\n",
       "  <thead>\n",
       "    <tr style=\"text-align: right;\">\n",
       "      <th></th>\n",
       "      <th>sessionID</th>\n",
       "      <th>userID</th>\n",
       "      <th>browser</th>\n",
       "      <th>OS</th>\n",
       "      <th>device</th>\n",
       "      <th>new</th>\n",
       "      <th>quality</th>\n",
       "      <th>duration</th>\n",
       "      <th>bounced</th>\n",
       "      <th>transaction</th>\n",
       "      <th>transaction_revenue</th>\n",
       "      <th>continent</th>\n",
       "      <th>subcontinent</th>\n",
       "      <th>country</th>\n",
       "      <th>traffic_source</th>\n",
       "      <th>traffic_medium</th>\n",
       "      <th>keyword</th>\n",
       "      <th>referral_path</th>\n",
       "    </tr>\n",
       "  </thead>\n",
       "  <tbody>\n",
       "    <tr>\n",
       "      <th>0</th>\n",
       "      <td>SESSION_252289</td>\n",
       "      <td>USER_206024</td>\n",
       "      <td>Chrome</td>\n",
       "      <td>Linux</td>\n",
       "      <td>desktop</td>\n",
       "      <td>1</td>\n",
       "      <td>75.0</td>\n",
       "      <td>698.0</td>\n",
       "      <td>0</td>\n",
       "      <td>0.0</td>\n",
       "      <td>0.0</td>\n",
       "      <td>Americas</td>\n",
       "      <td>Northern America</td>\n",
       "      <td>United States</td>\n",
       "      <td>(direct)</td>\n",
       "      <td>(none)</td>\n",
       "      <td>NaN</td>\n",
       "      <td>Category1</td>\n",
       "    </tr>\n",
       "    <tr>\n",
       "      <th>1</th>\n",
       "      <td>SESSION_252290</td>\n",
       "      <td>USER_206025</td>\n",
       "      <td>Safari</td>\n",
       "      <td>iOS</td>\n",
       "      <td>tablet</td>\n",
       "      <td>0</td>\n",
       "      <td>1.0</td>\n",
       "      <td>0.0</td>\n",
       "      <td>1</td>\n",
       "      <td>0.0</td>\n",
       "      <td>0.0</td>\n",
       "      <td>Americas</td>\n",
       "      <td>Northern America</td>\n",
       "      <td>United States</td>\n",
       "      <td>google</td>\n",
       "      <td>organic</td>\n",
       "      <td>Category8</td>\n",
       "      <td>NaN</td>\n",
       "    </tr>\n",
       "    <tr>\n",
       "      <th>2</th>\n",
       "      <td>SESSION_252291</td>\n",
       "      <td>USER_206026</td>\n",
       "      <td>Chrome</td>\n",
       "      <td>Windows</td>\n",
       "      <td>desktop</td>\n",
       "      <td>1</td>\n",
       "      <td>1.0</td>\n",
       "      <td>33.0</td>\n",
       "      <td>0</td>\n",
       "      <td>0.0</td>\n",
       "      <td>0.0</td>\n",
       "      <td>Asia</td>\n",
       "      <td>Southern Asia</td>\n",
       "      <td>India</td>\n",
       "      <td>youtube.com</td>\n",
       "      <td>referral</td>\n",
       "      <td>NaN</td>\n",
       "      <td>Category2_Path_0082</td>\n",
       "    </tr>\n",
       "    <tr>\n",
       "      <th>3</th>\n",
       "      <td>SESSION_252292</td>\n",
       "      <td>USER_206027</td>\n",
       "      <td>Chrome</td>\n",
       "      <td>Android</td>\n",
       "      <td>mobile</td>\n",
       "      <td>1</td>\n",
       "      <td>1.0</td>\n",
       "      <td>76.0</td>\n",
       "      <td>0</td>\n",
       "      <td>0.0</td>\n",
       "      <td>0.0</td>\n",
       "      <td>Americas</td>\n",
       "      <td>Northern America</td>\n",
       "      <td>United States</td>\n",
       "      <td>google</td>\n",
       "      <td>organic</td>\n",
       "      <td>Category8</td>\n",
       "      <td>NaN</td>\n",
       "    </tr>\n",
       "    <tr>\n",
       "      <th>4</th>\n",
       "      <td>SESSION_252293</td>\n",
       "      <td>USER_206028</td>\n",
       "      <td>Internet Explorer</td>\n",
       "      <td>Windows Phone</td>\n",
       "      <td>mobile</td>\n",
       "      <td>1</td>\n",
       "      <td>2.0</td>\n",
       "      <td>372.0</td>\n",
       "      <td>0</td>\n",
       "      <td>0.0</td>\n",
       "      <td>0.0</td>\n",
       "      <td>Asia</td>\n",
       "      <td>Southern Asia</td>\n",
       "      <td>India</td>\n",
       "      <td>youtube.com</td>\n",
       "      <td>referral</td>\n",
       "      <td>NaN</td>\n",
       "      <td>Category11_Path_0088</td>\n",
       "    </tr>\n",
       "  </tbody>\n",
       "</table>\n",
       "</div>"
      ],
      "text/plain": [
       "        sessionID       userID            browser             OS   device  \\\n",
       "0  SESSION_252289  USER_206024             Chrome          Linux  desktop   \n",
       "1  SESSION_252290  USER_206025             Safari            iOS   tablet   \n",
       "2  SESSION_252291  USER_206026             Chrome        Windows  desktop   \n",
       "3  SESSION_252292  USER_206027             Chrome        Android   mobile   \n",
       "4  SESSION_252293  USER_206028  Internet Explorer  Windows Phone   mobile   \n",
       "\n",
       "   new  quality  duration  bounced  transaction  transaction_revenue  \\\n",
       "0    1     75.0     698.0        0          0.0                  0.0   \n",
       "1    0      1.0       0.0        1          0.0                  0.0   \n",
       "2    1      1.0      33.0        0          0.0                  0.0   \n",
       "3    1      1.0      76.0        0          0.0                  0.0   \n",
       "4    1      2.0     372.0        0          0.0                  0.0   \n",
       "\n",
       "  continent      subcontinent        country traffic_source traffic_medium  \\\n",
       "0  Americas  Northern America  United States       (direct)         (none)   \n",
       "1  Americas  Northern America  United States         google        organic   \n",
       "2      Asia     Southern Asia          India    youtube.com       referral   \n",
       "3  Americas  Northern America  United States         google        organic   \n",
       "4      Asia     Southern Asia          India    youtube.com       referral   \n",
       "\n",
       "     keyword         referral_path  \n",
       "0        NaN             Category1  \n",
       "1  Category8                   NaN  \n",
       "2        NaN   Category2_Path_0082  \n",
       "3  Category8                   NaN  \n",
       "4        NaN  Category11_Path_0088  "
      ]
     },
     "execution_count": 49,
     "metadata": {},
     "output_type": "execute_result"
    }
   ],
   "source": [
    "df_test.head()"
   ]
  },
  {
   "cell_type": "code",
   "execution_count": 50,
   "metadata": {},
   "outputs": [],
   "source": [
    "# 필요없는 칼럼 이름을 리스트 형태로 지정\n",
    "df_train['subcontinent'] = df_train.apply(lambda row: row['continent'] if pd.isna(row['subcontinent']) else row['subcontinent'], axis=1)\n",
    "df_test['subcontinent'] = df_test.apply(lambda row: row['continent'] if pd.isna(row['subcontinent']) else row['subcontinent'], axis=1)\n",
    "\n",
    "# df_train['country'] = df_train.apply(lambda row: row['subcontinent'] if pd.isna(row['country']) else row['country'], axis=1)\n",
    "# df_test['country'] = df_test.apply(lambda row: row['subcontinent'] if pd.isna(row['country']) else row['country'], axis=1)\n",
    "\n",
    "columns_to_drop = ['sessionID', 'userID','continent','country']\n",
    "\n",
    "# 학습 데이터에서 필요없는 칼럼 제거\n",
    "df_train = df_train.drop(columns=columns_to_drop, axis=1)\n",
    "\n",
    "# 테스트 데이터에서 필요없는 칼럼 제거\n",
    "df_test = df_test.drop(columns=columns_to_drop, axis=1)"
   ]
  },
  {
   "cell_type": "code",
   "execution_count": 51,
   "metadata": {},
   "outputs": [
    {
     "name": "stdout",
     "output_type": "stream",
     "text": [
      "<class 'pandas.core.frame.DataFrame'>\n",
      "RangeIndex: 252289 entries, 0 to 252288\n",
      "Data columns (total 15 columns):\n",
      " #   Column               Non-Null Count   Dtype  \n",
      "---  ------               --------------   -----  \n",
      " 0   TARGET               252289 non-null  float64\n",
      " 1   browser              252289 non-null  object \n",
      " 2   OS                   252289 non-null  object \n",
      " 3   device               252289 non-null  object \n",
      " 4   new                  252289 non-null  int64  \n",
      " 5   quality              252289 non-null  float64\n",
      " 6   duration             252289 non-null  float64\n",
      " 7   bounced              252289 non-null  int64  \n",
      " 8   transaction          252289 non-null  float64\n",
      " 9   transaction_revenue  252289 non-null  float64\n",
      " 10  subcontinent         252289 non-null  object \n",
      " 11  traffic_source       252289 non-null  object \n",
      " 12  traffic_medium       252289 non-null  object \n",
      " 13  keyword              114614 non-null  object \n",
      " 14  referral_path        91182 non-null   object \n",
      "dtypes: float64(5), int64(2), object(8)\n",
      "memory usage: 28.9+ MB\n"
     ]
    }
   ],
   "source": [
    "df_train.info()"
   ]
  },
  {
   "cell_type": "code",
   "execution_count": 52,
   "metadata": {},
   "outputs": [
    {
     "name": "stdout",
     "output_type": "stream",
     "text": [
      "<class 'pandas.core.frame.DataFrame'>\n",
      "RangeIndex: 79786 entries, 0 to 79785\n",
      "Data columns (total 14 columns):\n",
      " #   Column               Non-Null Count  Dtype  \n",
      "---  ------               --------------  -----  \n",
      " 0   browser              79786 non-null  object \n",
      " 1   OS                   79786 non-null  object \n",
      " 2   device               79786 non-null  object \n",
      " 3   new                  79786 non-null  int64  \n",
      " 4   quality              79786 non-null  float64\n",
      " 5   duration             79786 non-null  float64\n",
      " 6   bounced              79786 non-null  int64  \n",
      " 7   transaction          79786 non-null  float64\n",
      " 8   transaction_revenue  79786 non-null  float64\n",
      " 9   subcontinent         79786 non-null  object \n",
      " 10  traffic_source       79786 non-null  object \n",
      " 11  traffic_medium       79786 non-null  object \n",
      " 12  keyword              36716 non-null  object \n",
      " 13  referral_path        25895 non-null  object \n",
      "dtypes: float64(4), int64(2), object(8)\n",
      "memory usage: 8.5+ MB\n"
     ]
    }
   ],
   "source": [
    "df_test.info()"
   ]
  },
  {
   "cell_type": "code",
   "execution_count": 53,
   "metadata": {},
   "outputs": [],
   "source": [
    "label_columns = [\n",
    "    \"browser\",\n",
    "    \"OS\",\n",
    "    \"device\",\n",
    "    \"subcontinent\",\n",
    "    \"traffic_source\",\n",
    "    \"traffic_medium\",\n",
    "    \"keyword\",\n",
    "    \"referral_path\",\n",
    "]"
   ]
  },
  {
   "cell_type": "code",
   "execution_count": 54,
   "metadata": {},
   "outputs": [],
   "source": [
    "df_all = pd.concat([df_train[label_columns], df_test[label_columns]])"
   ]
  },
  {
   "cell_type": "code",
   "execution_count": 55,
   "metadata": {},
   "outputs": [],
   "source": [
    "with open('combined_browser_mappings.json', 'r', encoding='utf-8') as file:\n",
    "    browser_mappings = json.load(file)\n",
    "    # browser 칼럼 값을 업데이트합니다. 해당되는 키 값이 없거나 원래 값이 nan이면 변경하지 않습니다.\n",
    "    def map_browser(value):\n",
    "        if pd.isna(value):  # 값이 NaN인 경우\n",
    "            return value  # 원래의 NaN 값을 반환\n",
    "        return browser_mappings.get(value, value)  # 해당되는 키 값이 없으면 원래 값을 반환\n",
    "\n",
    "    df_all['browser'] = df_all['browser'].apply(map_browser)"
   ]
  },
  {
   "cell_type": "code",
   "execution_count": 56,
   "metadata": {},
   "outputs": [
    {
     "name": "stdout",
     "output_type": "stream",
     "text": [
      "Chrome: 231898 | Safari: 49573 | Android Webview: 16077 | Firefox: 11070 | Internet Explorer: 5933 | Edge: 4855 | Opera Mini: 4131 | Samsung Internet: 3959 | Opera: 1768 | UC Browser: 1155 | YaBrowser: 491 | Amazon Silk: 337 | Coc Coc: 273 | other: 182 | Mozilla Compatible Agent: 173 | Android Browser: 135 | Puffin: 65 | "
     ]
    }
   ],
   "source": [
    "# 'browser' 칼럼의 고유한 값들과 그 값들의 개수를 출현 빈도에 따라 정렬해서 출력\n",
    "value_counts = df_all['browser'].value_counts()  # 값의 출현 빈도를 계산\n",
    "\n",
    "# 출현 빈도에 따라 정렬된 결과를 출력\n",
    "for index, count in value_counts.items():\n",
    "    print(f\"{index}: {count}\", end=\" | \")"
   ]
  },
  {
   "cell_type": "code",
   "execution_count": 57,
   "metadata": {},
   "outputs": [],
   "source": [
    "with open('combined_OS_mappings.json', 'r', encoding='utf-8') as file:\n",
    "    OS_mappings = json.load(file)\n",
    "    # OS 칼럼 값을 업데이트합니다. 해당되는 키 값이 없거나 원래 값이 nan이면 변경하지 않습니다.\n",
    "    def map_OS(value):\n",
    "        if pd.isna(value):  # 값이 NaN인 경우\n",
    "            return value  # 원래의 NaN 값을 반환\n",
    "        return OS_mappings.get(value, value)  # 해당되는 키 값이 없으면 원래 값을 반환\n",
    "\n",
    "    df_all['OS'] = df_all['OS'].apply(map_OS)"
   ]
  },
  {
   "cell_type": "code",
   "execution_count": 58,
   "metadata": {},
   "outputs": [
    {
     "name": "stdout",
     "output_type": "stream",
     "text": [
      "Windows: 116502 | Macintosh: 80654 | Android: 66208 | iOS: 39279 | Linux: 12509 | Chrome OS: 12322 | (not set): 3531 | Tizen: 409 | Samsung: 346 | Windows Phone: 168 | game: 57 | OS/2: 45 | BlackBerry: 34 | other: 11 | "
     ]
    }
   ],
   "source": [
    "# 'OS' 칼럼의 고유한 값들과 그 값들의 개수를 출현 빈도에 따라 정렬해서 출력\n",
    "value_counts = df_all['OS'].value_counts()  # 값의 출현 빈도를 계산\n",
    "\n",
    "# 출현 빈도에 따라 정렬된 결과를 출력\n",
    "for index, count in value_counts.items():\n",
    "    print(f\"{index}: {count}\", end=\" | \")"
   ]
  },
  {
   "cell_type": "code",
   "execution_count": 59,
   "metadata": {},
   "outputs": [],
   "source": [
    "with open('combined_traffic_source_mappings.json', 'r', encoding='utf-8') as file:\n",
    "    traffic_source_mappings = json.load(file)\n",
    "    # traffic_source 칼럼 값을 업데이트합니다. 해당되는 키 값이 없거나 원래 값이 nan이면 변경하지 않습니다.\n",
    "    def map_traffic_source(value):\n",
    "        if pd.isna(value):  # 값이 NaN인 경우\n",
    "            return value  # 원래의 NaN 값을 반환\n",
    "        return traffic_source_mappings.get(value, value)  # 해당되는 키 값이 없으면 원래 값을 반환\n",
    "\n",
    "    df_all['traffic_source'] = df_all['traffic_source'].apply(map_traffic_source)"
   ]
  },
  {
   "cell_type": "code",
   "execution_count": 60,
   "metadata": {},
   "outputs": [
    {
     "name": "stdout",
     "output_type": "stream",
     "text": [
      "Search Engines: 157307 | Direct: 78395 | Social Media: 70627 | Google Services: 16133 | Others: 9129 | Blogs: 282 | Educational: 93 | Tech News: 41 | Email Services: 39 | Portals: 16 | Tech Platforms: 13 | "
     ]
    }
   ],
   "source": [
    "# 'traffic_source' 칼럼의 고유한 값들과 그 값들의 개수를 출현 빈도에 따라 정렬해서 출력\n",
    "value_counts = df_all['traffic_source'].value_counts()  # 값의 출현 빈도를 계산\n",
    "\n",
    "# 출현 빈도에 따라 정렬된 결과를 출력\n",
    "for index, count in value_counts.items():\n",
    "    print(f\"{index}: {count}\", end=\" | \")"
   ]
  },
  {
   "cell_type": "code",
   "execution_count": 61,
   "metadata": {},
   "outputs": [],
   "source": [
    "df_all['traffic_medium'] = df_all['traffic_medium'].replace('(not set)', '(none)')"
   ]
  },
  {
   "cell_type": "code",
   "execution_count": 62,
   "metadata": {},
   "outputs": [
    {
     "name": "stdout",
     "output_type": "stream",
     "text": [
      "organic: 143264 | referral: 89861 | (none): 78401 | cpc: 11776 | affiliate: 8166 | cpm: 607 | "
     ]
    }
   ],
   "source": [
    "# 'traffic_medium' 칼럼의 고유한 값들과 그 값들의 개수를 출현 빈도에 따라 정렬해서 출력\n",
    "value_counts = df_all['traffic_medium'].value_counts()  # 값의 출현 빈도를 계산\n",
    "\n",
    "# 출현 빈도에 따라 정렬된 결과를 출력\n",
    "for index, count in value_counts.items():\n",
    "    print(f\"{index}: {count}\", end=\" | \")"
   ]
  },
  {
   "cell_type": "code",
   "execution_count": 63,
   "metadata": {},
   "outputs": [],
   "source": [
    "df_all['keyword'] = df_all['keyword'].str.extract('(Category\\d+)')"
   ]
  },
  {
   "cell_type": "code",
   "execution_count": 64,
   "metadata": {},
   "outputs": [
    {
     "name": "stdout",
     "output_type": "stream",
     "text": [
      "Category8: 138182 | Category9: 3817 | Category11: 2456 | Category10: 1487 | Category1: 1446 | Category6: 1139 | Category2: 898 | Category12: 718 | Category4: 485 | Category3: 422 | Category5: 162 | Category7: 118 | "
     ]
    }
   ],
   "source": [
    "# 'keyword' 칼럼의 고유한 값들과 그 값들의 개수를 출현 빈도에 따라 정렬해서 출력\n",
    "value_counts = df_all['keyword'].value_counts()  # 값의 출현 빈도를 계산\n",
    "\n",
    "# 출현 빈도에 따라 정렬된 결과를 출력\n",
    "for index, count in value_counts.items():\n",
    "    print(f\"{index}: {count}\", end=\" | \")"
   ]
  },
  {
   "cell_type": "code",
   "execution_count": 65,
   "metadata": {},
   "outputs": [
    {
     "name": "stdout",
     "output_type": "stream",
     "text": [
      "Category8: 138182 | Category9: 3817 | Category11: 2456 | Category10: 1487 | Category1: 1446 | Category6: 1139 | Category2: 898 | Category12: 718 | Category4: 485 | Category3: 422 | Category5: 162 | Category7: 118 | "
     ]
    }
   ],
   "source": [
    "# 'keyword' 칼럼의 값들의 출현 빈도를 계산\n",
    "value_counts = df_all['keyword'].value_counts()\n",
    "\n",
    "# 출현 빈도가 30보다 작은 값들을 필터링\n",
    "to_replace = value_counts[value_counts < 30].index\n",
    "\n",
    "# 해당하는 값들을 'other'로 변경\n",
    "df_all['keyword'] = df_all['keyword'].apply(lambda x: 'other' if x in to_replace else x)\n",
    "\n",
    "# 변경 후의 'keyword' 칼럼의 고유한 값들과 그 값들의 개수를 출현 빈도에 따라 정렬해서 출력\n",
    "new_value_counts = df_all['keyword'].value_counts()\n",
    "for index, count in new_value_counts.items():\n",
    "    print(f\"{index}: {count}\", end=\" | \")"
   ]
  },
  {
   "cell_type": "code",
   "execution_count": 66,
   "metadata": {},
   "outputs": [],
   "source": [
    "df_all['referral_path'] = df_all['referral_path'].str.extract('(Category\\d+)')"
   ]
  },
  {
   "cell_type": "code",
   "execution_count": 67,
   "metadata": {},
   "outputs": [
    {
     "name": "stdout",
     "output_type": "stream",
     "text": [
      "Category1: 24737 | Category2: 16015 | Category11: 15325 | Category13: 12618 | Category3: 10695 | Category6: 8561 | Category5: 7044 | Category8: 5987 | Category4: 4797 | Category12: 4671 | Category7: 3783 | Category9: 1798 | Category10: 1046 | "
     ]
    }
   ],
   "source": [
    "# 'keyword' 칼럼의 값들의 출현 빈도를 계산\n",
    "value_counts = df_all['referral_path'].value_counts()\n",
    "\n",
    "# 출현 빈도가 30보다 작은 값들을 필터링\n",
    "to_replace = value_counts[value_counts < 30].index\n",
    "\n",
    "# 해당하는 값들을 'other'로 변경\n",
    "df_all['referral_path'] = df_all['referral_path'].apply(lambda x: 'other' if x in to_replace else x)\n",
    "\n",
    "# 변경 후의 'keyword' 칼럼의 고유한 값들과 그 값들의 개수를 출현 빈도에 따라 정렬해서 출력\n",
    "new_value_counts = df_all['referral_path'].value_counts()\n",
    "for index, count in new_value_counts.items():\n",
    "    print(f\"{index}: {count}\", end=\" | \")"
   ]
  },
  {
   "cell_type": "code",
   "execution_count": 68,
   "metadata": {},
   "outputs": [],
   "source": [
    "def one_hot_encoding(df, columns):\n",
    "    \"\"\"DataFrame과 칼럼 리스트를 받아 해당 칼럼들에 대해 원-핫 인코딩을 수행하고, 원본 DataFrame에 새로운 칼럼들을 추가합니다.\"\"\"\n",
    "    for col in columns:\n",
    "        # pd.get_dummies를 이용해 원-핫 인코딩 수행\n",
    "        dummies = pd.get_dummies(df[col], prefix=col)\n",
    "        # 원본 DataFrame에 인코딩된 DataFrame을 합침\n",
    "        df = pd.concat([df, dummies], axis=1)\n",
    "        # 원본 칼럼 삭제\n",
    "        df.drop(col, axis=1, inplace=True)\n",
    "    return df"
   ]
  },
  {
   "cell_type": "code",
   "execution_count": 69,
   "metadata": {},
   "outputs": [],
   "source": [
    "df_all = one_hot_encoding(df_all, label_columns)"
   ]
  },
  {
   "cell_type": "code",
   "execution_count": 70,
   "metadata": {},
   "outputs": [],
   "source": [
    "# columns_to_drop = ['traffic_source_Others', 'OS_other','browser_other','traffic_medium_(none)','OS_(not set)','subcontinent_(not set)']\n",
    "\n",
    "# # 학습 데이터에서 필요없는 칼럼 제거\n",
    "# df_all = df_all.drop(columns=columns_to_drop, axis=1)\n"
   ]
  },
  {
   "cell_type": "code",
   "execution_count": 71,
   "metadata": {},
   "outputs": [],
   "source": [
    "df_train_dropped = df_train.drop(columns=label_columns)\n",
    "df_test_dropped = df_test.drop(columns=label_columns)\n",
    "\n",
    "df_train_encoded = df_all.iloc[:len(df_train)].copy()\n",
    "df_test_encoded = df_all.iloc[len(df_train):].copy()\n",
    "\n",
    "\n",
    "df_train = pd.concat([df_train_dropped, df_train_encoded], axis=1)\n",
    "df_test = pd.concat([df_test_dropped, df_test_encoded], axis=1)"
   ]
  },
  {
   "cell_type": "code",
   "execution_count": 72,
   "metadata": {},
   "outputs": [
    {
     "name": "stdout",
     "output_type": "stream",
     "text": [
      "Train 데이터셋의 결측값:\n",
      "Series([], dtype: int64)\n"
     ]
    }
   ],
   "source": [
    "# train 데이터셋에서 결측값 확인\n",
    "train_missing_values = df_train.isnull().sum()\n",
    "print(\"Train 데이터셋의 결측값:\")\n",
    "print(train_missing_values[train_missing_values > 0])  # 결측값이 있는 열만 출력"
   ]
  },
  {
   "cell_type": "code",
   "execution_count": 73,
   "metadata": {},
   "outputs": [],
   "source": [
    "# train['keyword'].fillna(train['keyword'].mode()[0], inplace=True)\n",
    "# train['referral_path'].fillna(train['referral_path'].mode()[0], inplace=True)"
   ]
  },
  {
   "cell_type": "code",
   "execution_count": 74,
   "metadata": {},
   "outputs": [],
   "source": [
    "# test['keyword'].fillna(train['keyword'].mode()[0], inplace=True) #train의 최빈값 사용\n",
    "# test['referral_path'].fillna(train['referral_path'].mode()[0], inplace=True)"
   ]
  },
  {
   "cell_type": "code",
   "execution_count": 75,
   "metadata": {},
   "outputs": [],
   "source": [
    "# categorical_features = list(train.dtypes[train.dtypes == \"object\"].index)\n",
    "\n",
    "# for i in categorical_features:\n",
    "#     count = train[i].nunique()  # 고유값의 개수를 계산\n",
    "#     print(f\"{i}: {count}\")"
   ]
  },
  {
   "cell_type": "code",
   "execution_count": 76,
   "metadata": {},
   "outputs": [],
   "source": [
    "# train = train.drop(columns=['sessionID','userID'],axis=1)\n",
    "# test = test.drop(columns=['sessionID','userID'],axis=1)"
   ]
  },
  {
   "cell_type": "code",
   "execution_count": 77,
   "metadata": {},
   "outputs": [],
   "source": [
    "# encoding_target = list(train.dtypes[train.dtypes == \"object\"].index)\n",
    "\n",
    "# for i in encoding_target:\n",
    "#     le = LabelEncoder()\n",
    "#     le.fit(train[i])\n",
    "#     train[i] = le.transform(train[i])\n",
    "    \n",
    "#     # test 데이터의 새로운 카테고리에 대해 le.classes_ 배열에 추가\n",
    "#     # test 데이터에 대해서 직접적으로 fit을 수행할 경우 Data Leakage\n",
    "#     for case in np.unique(test[i]):\n",
    "#         if case not in le.classes_: \n",
    "#             le.classes_ = np.append(le.classes_, case) \n",
    "    \n",
    "#     test[i] = le.transform(test[i])"
   ]
  },
  {
   "cell_type": "code",
   "execution_count": null,
   "metadata": {},
   "outputs": [],
   "source": []
  },
  {
   "cell_type": "code",
   "execution_count": 78,
   "metadata": {},
   "outputs": [],
   "source": [
    "x_train = df_train.drop(columns=['TARGET'])\n",
    "y_train = df_train['TARGET']\n",
    "\n",
    "x_test = df_test"
   ]
  },
  {
   "cell_type": "code",
   "execution_count": 79,
   "metadata": {},
   "outputs": [],
   "source": [
    "from sklearn.preprocessing import StandardScaler\n",
    "from tensorflow.keras.models import Sequential\n",
    "from tensorflow.keras.layers import Dense, BatchNormalization, Activation, Dropout\n",
    "from tensorflow_addons.optimizers import AdamW\n",
    "import tensorflow as tf\n",
    "\n",
    "# 스케일러 정의\n",
    "scaler = StandardScaler()\n",
    "\n",
    "# 학습 데이터에 대한 스케일러 fitting 및 변환\n",
    "x_train = scaler.fit_transform(x_train)\n",
    "\n",
    "model = Sequential([\n",
    "    Dense(256, input_shape=(x_train.shape[1],)),\n",
    "    BatchNormalization(),\n",
    "    Activation(tf.nn.gelu),\n",
    "    Dropout(0.3),\n",
    "    \n",
    "    Dense(128),\n",
    "    BatchNormalization(),\n",
    "    Activation(tf.nn.gelu),\n",
    "    Dropout(0.3),\n",
    "    \n",
    "    Dense(128), # 추가된 층\n",
    "    BatchNormalization(),\n",
    "    Activation(tf.nn.gelu),\n",
    "    Dropout(0.3),\n",
    "    \n",
    "    Dense(64),\n",
    "    BatchNormalization(),\n",
    "    Activation(tf.nn.gelu),\n",
    "    Dropout(0.3),\n",
    "    \n",
    "    Dense(64), # 추가된 층\n",
    "    BatchNormalization(),\n",
    "    Activation(tf.nn.gelu),\n",
    "    Dropout(0.3),\n",
    "    \n",
    "    Dense(32),\n",
    "    BatchNormalization(),\n",
    "    Activation(tf.nn.gelu),\n",
    "    Dropout(0.3),\n",
    "    \n",
    "    # 출력층 변경: 회귀 문제에 적합하게 활성화 함수를 linear로 설정 (혹은 생략 가능)\n",
    "    Dense(1, activation='linear')\n",
    "])\n",
    "\n",
    "# 모델 컴파일 부분 변경: 손실 함수를 'mean_squared_error'로 변경\n",
    "adamw_optimizer = AdamW(learning_rate=0.001, weight_decay=1e-4)\n",
    "model.compile(optimizer=adamw_optimizer, loss='mean_squared_error', metrics=['mae'])  # 회귀 문제에서는 정확도 대신 MAE 등을 사용할 수 있음\n"
   ]
  },
  {
   "cell_type": "code",
   "execution_count": 80,
   "metadata": {},
   "outputs": [],
   "source": [
    "# # 모델 훈련\n",
    "# model.fit(x_train, y_train, epochs=10, batch_size=10)\n",
    "\n",
    "# # 모델 저장\n",
    "# model.save('./bigdata/model/model_noother_path.h5')"
   ]
  },
  {
   "cell_type": "code",
   "execution_count": 81,
   "metadata": {},
   "outputs": [],
   "source": [
    "from tensorflow.keras.models import load_model\n",
    "model1 = load_model('./bigdata/model/model_noother_path.h5')"
   ]
  },
  {
   "cell_type": "code",
   "execution_count": 82,
   "metadata": {},
   "outputs": [],
   "source": [
    "x_test = scaler.transform(x_test)"
   ]
  },
  {
   "cell_type": "code",
   "execution_count": 83,
   "metadata": {},
   "outputs": [
    {
     "name": "stdout",
     "output_type": "stream",
     "text": [
      "2494/2494 [==============================] - 10s 4ms/step\n"
     ]
    }
   ],
   "source": [
    "preds1 = model1.predict(x_test)"
   ]
  },
  {
   "cell_type": "code",
   "execution_count": 84,
   "metadata": {},
   "outputs": [
    {
     "data": {
      "text/html": [
       "<div>\n",
       "<style scoped>\n",
       "    .dataframe tbody tr th:only-of-type {\n",
       "        vertical-align: middle;\n",
       "    }\n",
       "\n",
       "    .dataframe tbody tr th {\n",
       "        vertical-align: top;\n",
       "    }\n",
       "\n",
       "    .dataframe thead th {\n",
       "        text-align: right;\n",
       "    }\n",
       "</style>\n",
       "<table border=\"1\" class=\"dataframe\">\n",
       "  <thead>\n",
       "    <tr style=\"text-align: right;\">\n",
       "      <th></th>\n",
       "      <th>sessionID</th>\n",
       "      <th>TARGET</th>\n",
       "    </tr>\n",
       "  </thead>\n",
       "  <tbody>\n",
       "    <tr>\n",
       "      <th>0</th>\n",
       "      <td>SESSION_252289</td>\n",
       "      <td>0</td>\n",
       "    </tr>\n",
       "    <tr>\n",
       "      <th>1</th>\n",
       "      <td>SESSION_252290</td>\n",
       "      <td>0</td>\n",
       "    </tr>\n",
       "    <tr>\n",
       "      <th>2</th>\n",
       "      <td>SESSION_252291</td>\n",
       "      <td>0</td>\n",
       "    </tr>\n",
       "    <tr>\n",
       "      <th>3</th>\n",
       "      <td>SESSION_252292</td>\n",
       "      <td>0</td>\n",
       "    </tr>\n",
       "    <tr>\n",
       "      <th>4</th>\n",
       "      <td>SESSION_252293</td>\n",
       "      <td>0</td>\n",
       "    </tr>\n",
       "    <tr>\n",
       "      <th>...</th>\n",
       "      <td>...</td>\n",
       "      <td>...</td>\n",
       "    </tr>\n",
       "    <tr>\n",
       "      <th>79781</th>\n",
       "      <td>SESSION_332070</td>\n",
       "      <td>0</td>\n",
       "    </tr>\n",
       "    <tr>\n",
       "      <th>79782</th>\n",
       "      <td>SESSION_332071</td>\n",
       "      <td>0</td>\n",
       "    </tr>\n",
       "    <tr>\n",
       "      <th>79783</th>\n",
       "      <td>SESSION_332072</td>\n",
       "      <td>0</td>\n",
       "    </tr>\n",
       "    <tr>\n",
       "      <th>79784</th>\n",
       "      <td>SESSION_332073</td>\n",
       "      <td>0</td>\n",
       "    </tr>\n",
       "    <tr>\n",
       "      <th>79785</th>\n",
       "      <td>SESSION_332074</td>\n",
       "      <td>0</td>\n",
       "    </tr>\n",
       "  </tbody>\n",
       "</table>\n",
       "<p>79786 rows × 2 columns</p>\n",
       "</div>"
      ],
      "text/plain": [
       "            sessionID  TARGET\n",
       "0      SESSION_252289       0\n",
       "1      SESSION_252290       0\n",
       "2      SESSION_252291       0\n",
       "3      SESSION_252292       0\n",
       "4      SESSION_252293       0\n",
       "...               ...     ...\n",
       "79781  SESSION_332070       0\n",
       "79782  SESSION_332071       0\n",
       "79783  SESSION_332072       0\n",
       "79784  SESSION_332073       0\n",
       "79785  SESSION_332074       0\n",
       "\n",
       "[79786 rows x 2 columns]"
      ]
     },
     "execution_count": 84,
     "metadata": {},
     "output_type": "execute_result"
    }
   ],
   "source": [
    "submission = pd.read_csv('./bigdata/sample_submission.csv')\n",
    "submission"
   ]
  },
  {
   "cell_type": "code",
   "execution_count": 85,
   "metadata": {},
   "outputs": [
    {
     "data": {
      "text/html": [
       "<div>\n",
       "<style scoped>\n",
       "    .dataframe tbody tr th:only-of-type {\n",
       "        vertical-align: middle;\n",
       "    }\n",
       "\n",
       "    .dataframe tbody tr th {\n",
       "        vertical-align: top;\n",
       "    }\n",
       "\n",
       "    .dataframe thead th {\n",
       "        text-align: right;\n",
       "    }\n",
       "</style>\n",
       "<table border=\"1\" class=\"dataframe\">\n",
       "  <thead>\n",
       "    <tr style=\"text-align: right;\">\n",
       "      <th></th>\n",
       "      <th>sessionID</th>\n",
       "      <th>TARGET</th>\n",
       "    </tr>\n",
       "  </thead>\n",
       "  <tbody>\n",
       "    <tr>\n",
       "      <th>0</th>\n",
       "      <td>SESSION_252289</td>\n",
       "      <td>15.222219</td>\n",
       "    </tr>\n",
       "    <tr>\n",
       "      <th>1</th>\n",
       "      <td>SESSION_252290</td>\n",
       "      <td>1.024654</td>\n",
       "    </tr>\n",
       "    <tr>\n",
       "      <th>2</th>\n",
       "      <td>SESSION_252291</td>\n",
       "      <td>2.800792</td>\n",
       "    </tr>\n",
       "    <tr>\n",
       "      <th>3</th>\n",
       "      <td>SESSION_252292</td>\n",
       "      <td>4.158432</td>\n",
       "    </tr>\n",
       "    <tr>\n",
       "      <th>4</th>\n",
       "      <td>SESSION_252293</td>\n",
       "      <td>14.618855</td>\n",
       "    </tr>\n",
       "    <tr>\n",
       "      <th>...</th>\n",
       "      <td>...</td>\n",
       "      <td>...</td>\n",
       "    </tr>\n",
       "    <tr>\n",
       "      <th>79781</th>\n",
       "      <td>SESSION_332070</td>\n",
       "      <td>2.161209</td>\n",
       "    </tr>\n",
       "    <tr>\n",
       "      <th>79782</th>\n",
       "      <td>SESSION_332071</td>\n",
       "      <td>1.309649</td>\n",
       "    </tr>\n",
       "    <tr>\n",
       "      <th>79783</th>\n",
       "      <td>SESSION_332072</td>\n",
       "      <td>3.182707</td>\n",
       "    </tr>\n",
       "    <tr>\n",
       "      <th>79784</th>\n",
       "      <td>SESSION_332073</td>\n",
       "      <td>3.838030</td>\n",
       "    </tr>\n",
       "    <tr>\n",
       "      <th>79785</th>\n",
       "      <td>SESSION_332074</td>\n",
       "      <td>2.151549</td>\n",
       "    </tr>\n",
       "  </tbody>\n",
       "</table>\n",
       "<p>79786 rows × 2 columns</p>\n",
       "</div>"
      ],
      "text/plain": [
       "            sessionID     TARGET\n",
       "0      SESSION_252289  15.222219\n",
       "1      SESSION_252290   1.024654\n",
       "2      SESSION_252291   2.800792\n",
       "3      SESSION_252292   4.158432\n",
       "4      SESSION_252293  14.618855\n",
       "...               ...        ...\n",
       "79781  SESSION_332070   2.161209\n",
       "79782  SESSION_332071   1.309649\n",
       "79783  SESSION_332072   3.182707\n",
       "79784  SESSION_332073   3.838030\n",
       "79785  SESSION_332074   2.151549\n",
       "\n",
       "[79786 rows x 2 columns]"
      ]
     },
     "execution_count": 85,
     "metadata": {},
     "output_type": "execute_result"
    }
   ],
   "source": [
    "submission['TARGET'] = preds1\n",
    "submission"
   ]
  },
  {
   "cell_type": "code",
   "execution_count": 86,
   "metadata": {},
   "outputs": [],
   "source": [
    "submission.to_csv('./deeplearning_model_baseline_submission.csv', index=False)"
   ]
  },
  {
   "cell_type": "code",
   "execution_count": 87,
   "metadata": {},
   "outputs": [],
   "source": [
    "#######\n",
    "\n",
    "\n",
    "y_preds_sum = np.zeros(len(x_test))\n"
   ]
  },
  {
   "cell_type": "code",
   "execution_count": 44,
   "metadata": {},
   "outputs": [],
   "source": [
    "from sklearn.ensemble import RandomForestRegressor\n",
    "\n",
    "# 데이터 준비\n",
    "# X, y를 준비해야 합니다.\n",
    "# 예를 들어, X는 특성 행렬이고, y는 타겟 벡터입니다.\n",
    "\n",
    "# 모델 생성 및 학습\n",
    "random_forest_regressor = RandomForestRegressor(n_estimators=100, random_state=42)\n",
    "random_forest_regressor.fit(x_train, y_train)\n",
    "\n",
    "# 예측 및 평가\n",
    "y_pred1= random_forest_regressor.predict(x_test)\n",
    "submission['TARGET'] = y_pred1\n",
    "submission\n",
    "submission.to_csv('./result/submission_RandomForestRegressor.csv', index=False)\n",
    "\n",
    "y_preds_sum += y_pred1"
   ]
  },
  {
   "cell_type": "code",
   "execution_count": 88,
   "metadata": {},
   "outputs": [
    {
     "name": "stdout",
     "output_type": "stream",
     "text": [
      "0:\tlearn: 5.4715805\ttotal: 742ms\tremaining: 2h 3m 37s\n",
      "1000:\tlearn: 2.1970604\ttotal: 10m 9s\tremaining: 1h 31m 15s\n",
      "2000:\tlearn: 2.0094824\ttotal: 20m 18s\tremaining: 1h 21m 11s\n",
      "3000:\tlearn: 1.8785699\ttotal: 30m 35s\tremaining: 1h 11m 20s\n",
      "4000:\tlearn: 1.7739323\ttotal: 40m 48s\tremaining: 1h 1m 11s\n",
      "5000:\tlearn: 1.6940202\ttotal: 50m 48s\tremaining: 50m 47s\n",
      "6000:\tlearn: 1.6278634\ttotal: 1h 1m 9s\tremaining: 40m 45s\n",
      "7000:\tlearn: 1.5752925\ttotal: 1h 11m 30s\tremaining: 30m 37s\n",
      "8000:\tlearn: 1.5292994\ttotal: 1h 21m 46s\tremaining: 20m 25s\n",
      "9000:\tlearn: 1.4868566\ttotal: 1h 32m 5s\tremaining: 10m 13s\n",
      "9999:\tlearn: 1.4472453\ttotal: 1h 42m 38s\tremaining: 0us\n"
     ]
    }
   ],
   "source": [
    "from catboost import CatBoostRegressor, Pool\n",
    "\n",
    "# 데이터 준비\n",
    "# x_train, y_train, x_test는 이미 준비되어 있다고 가정합니다.\n",
    "# submission은 제출 파일을 준비하기 위한 빈 DataFrame입니다.\n",
    "\n",
    "# CatBoostRegressor 모델 정의\n",
    "catboost_regressor = CatBoostRegressor(\n",
    "     iterations=10000, \n",
    "     learning_rate=0.01, \n",
    "     depth=10,\n",
    "     loss_function='RMSE',\n",
    "     random_seed=42,\n",
    "     verbose=1000,  # 학습 과정에서 100번째 마다의 진행 상황을 출력합니다. \n",
    ")\n",
    "\n",
    "# 모델 학습\n",
    "catboost_regressor.fit(x_train, y_train)\n",
    "\n",
    "# 테스트 데이터에 대한 예측\n",
    "y_pred_catboost = catboost_regressor.predict(x_test)\n",
    "\n",
    "# 예측 결과를 submission DataFrame에 추가\n",
    "submission['TARGET'] = y_pred_catboost\n",
    "\n",
    "# 결과를 CSV 파일로 저장\n",
    "submission.to_csv('./result/submission_CatBoostRegressor.csv', index=False)\n"
   ]
  },
  {
   "cell_type": "code",
   "execution_count": 45,
   "metadata": {},
   "outputs": [],
   "source": [
    "# from sklearn.linear_model import LinearRegression\n",
    "\n",
    "# linear_regressor = LinearRegression()\n",
    "# linear_regressor.fit(x_train, y_train)\n",
    "\n",
    "# y_pred2 = linear_regressor.predict(x_test)\n",
    "# submission['TARGET'] = y_pred2\n",
    "# submission.to_csv('./result/submission_LinearRegression.csv', index=False)\n",
    "\n",
    "# y_preds_sum += y_pred2"
   ]
  },
  {
   "cell_type": "code",
   "execution_count": 46,
   "metadata": {},
   "outputs": [],
   "source": [
    "# from sklearn.linear_model import Ridge\n",
    "\n",
    "# ridge_regressor = Ridge(alpha=1.0)\n",
    "# ridge_regressor.fit(x_train, y_train)\n",
    "\n",
    "# y_pred3 = ridge_regressor.predict(x_test)\n",
    "# submission['TARGET'] = y_pred3\n",
    "# submission.to_csv('./result/submission_Ridge.csv', index=False)\n",
    "\n",
    "# y_preds_sum += y_pred3"
   ]
  },
  {
   "cell_type": "code",
   "execution_count": 47,
   "metadata": {},
   "outputs": [],
   "source": [
    "# from sklearn.linear_model import Lasso\n",
    "\n",
    "# lasso_regressor = Lasso(alpha=1.0)\n",
    "# lasso_regressor.fit(x_train, y_train)\n",
    "\n",
    "# y_pred4 = lasso_regressor.predict(x_test)\n",
    "# submission['TARGET'] = y_pred4\n",
    "# submission.to_csv('./result/submission_Lasso.csv', index=False)\n",
    "\n",
    "# y_preds_sum += y_pred4"
   ]
  },
  {
   "cell_type": "code",
   "execution_count": 48,
   "metadata": {},
   "outputs": [],
   "source": [
    "# from sklearn.linear_model import ElasticNet\n",
    "\n",
    "# elastic_net_regressor = ElasticNet(alpha=1.0, l1_ratio=0.5)\n",
    "# elastic_net_regressor.fit(x_train, y_train)\n",
    "\n",
    "# y_pred5 = elastic_net_regressor.predict(x_test)\n",
    "# submission['TARGET'] = y_pred5\n",
    "# submission.to_csv('./result/submission_ElasticNet.csv', index=False)\n",
    "\n",
    "# y_preds_sum += y_pred5"
   ]
  },
  {
   "cell_type": "code",
   "execution_count": 49,
   "metadata": {},
   "outputs": [],
   "source": [
    "# from sklearn.svm import SVR\n",
    "\n",
    "# svr_regressor = SVR(kernel='rbf')\n",
    "# svr_regressor.fit(x_train, y_train)\n",
    "\n",
    "# y_pred6 = svr_regressor.predict(x_test)\n",
    "# submission['TARGET'] = y_pred6\n",
    "# submission.to_csv('./result/submission_SVR.csv', index=False)\n",
    "\n",
    "# y_preds_sum += y_pred6"
   ]
  },
  {
   "cell_type": "code",
   "execution_count": 50,
   "metadata": {},
   "outputs": [],
   "source": [
    "# from sklearn.tree import DecisionTreeRegressor\n",
    "\n",
    "# decision_tree_regressor = DecisionTreeRegressor(random_state=42)\n",
    "# decision_tree_regressor.fit(x_train, y_train)\n",
    "\n",
    "# y_pred7 = decision_tree_regressor.predict(x_test)\n",
    "# submission['TARGET'] = y_pred7\n",
    "# submission.to_csv('./result/submission_DecisionTreeRegressor.csv', index=False)\n",
    "\n",
    "# y_preds_sum += y_pred7"
   ]
  },
  {
   "cell_type": "code",
   "execution_count": 51,
   "metadata": {},
   "outputs": [],
   "source": [
    "# from sklearn.ensemble import GradientBoostingRegressor\n",
    "\n",
    "# gradient_boosting_regressor = GradientBoostingRegressor(n_estimators=100, learning_rate=0.1, random_state=42)\n",
    "# gradient_boosting_regressor.fit(x_train, y_train)\n",
    "\n",
    "# y_pred8 = gradient_boosting_regressor.predict(x_test)\n",
    "# submission['TARGET'] = y_pred8\n",
    "\n",
    "# submission.to_csv('./result/submission_GradientBoostingRegressor.csv', index=False)\n",
    "\n",
    "# y_preds_sum += y_pred8"
   ]
  },
  {
   "cell_type": "code",
   "execution_count": 52,
   "metadata": {},
   "outputs": [],
   "source": [
    "# from sklearn.ensemble import AdaBoostRegressor\n",
    "\n",
    "# ada_boost_regressor = AdaBoostRegressor(n_estimators=100, random_state=42)\n",
    "# ada_boost_regressor.fit(x_train, y_train)\n",
    "\n",
    "# y_pred9 = ada_boost_regressor.predict(x_test)\n",
    "# submission['TARGET'] = y_pred9\n",
    "\n",
    "# submission.to_csv('./result/submission_AdaBoostRegressor.csv', index=False)\n",
    "\n",
    "# y_preds_sum += y_pred9\n",
    "\n",
    "# this result is shit"
   ]
  },
  {
   "cell_type": "code",
   "execution_count": null,
   "metadata": {},
   "outputs": [],
   "source": []
  },
  {
   "cell_type": "code",
   "execution_count": 53,
   "metadata": {},
   "outputs": [
    {
     "data": {
      "text/plain": [
       "array([16.61997366,  0.90968313,  2.44194314, ...,  2.59995153,\n",
       "        3.41762088,  1.08857093])"
      ]
     },
     "execution_count": 53,
     "metadata": {},
     "output_type": "execute_result"
    }
   ],
   "source": [
    "y_pred_final = y_preds_sum / 8\n",
    "y_pred_final"
   ]
  },
  {
   "cell_type": "code",
   "execution_count": 54,
   "metadata": {},
   "outputs": [],
   "source": [
    "submission['TARGET'] = y_pred_final\n",
    "submission.to_csv('./result/submission_ensemble.csv', index=False)"
   ]
  },
  {
   "cell_type": "code",
   "execution_count": 55,
   "metadata": {},
   "outputs": [
    {
     "name": "stdout",
     "output_type": "stream",
     "text": [
      "TARGET,new,quality,duration,bounced,transaction,transaction_revenue,browser_Amazon Silk,browser_Android Browser,browser_Android Webview,browser_Chrome,browser_Coc Coc,browser_Edge,browser_Firefox,browser_Internet Explorer,browser_Mozilla Compatible Agent,browser_Opera,browser_Opera Mini,browser_Puffin,browser_Safari,browser_Samsung Internet,browser_UC Browser,browser_YaBrowser,browser_other,OS_(not set),OS_Android,OS_BlackBerry,OS_Chrome OS,OS_Linux,OS_Macintosh,OS_OS/2,OS_Samsung,OS_Tizen,OS_Windows,OS_Windows Phone,OS_game,OS_iOS,OS_other,device_desktop,device_mobile,device_tablet,subcontinent_(not set),subcontinent_Australasia,subcontinent_Caribbean,subcontinent_Central America,subcontinent_Central Asia,subcontinent_Eastern Africa,subcontinent_Eastern Asia,subcontinent_Eastern Europe,subcontinent_Melanesia,subcontinent_Micronesian Region,subcontinent_Middle Africa,subcontinent_Northern Africa,subcontinent_Northern America,subcontinent_Northern Europe,subcontinent_Polynesia,subcontinent_South America,subcontinent_Southeast Asia,subcontinent_Southern Africa,subcontinent_Southern Asia,subcontinent_Southern Europe,subcontinent_Western Africa,subcontinent_Western Asia,subcontinent_Western Europe,traffic_source_Blogs,traffic_source_Direct,traffic_source_Educational,traffic_source_Email Services,traffic_source_Google Services,traffic_source_Others,traffic_source_Portals,traffic_source_Search Engines,traffic_source_Social Media,traffic_source_Tech News,traffic_source_Tech Platforms,traffic_medium_(none),traffic_medium_affiliate,traffic_medium_cpc,traffic_medium_cpm,traffic_medium_organic,traffic_medium_referral,keyword_Category1,keyword_Category10,keyword_Category11,keyword_Category12,keyword_Category2,keyword_Category3,keyword_Category4,keyword_Category5,keyword_Category6,keyword_Category7,keyword_Category8,keyword_Category9,referral_path_Category1,referral_path_Category10,referral_path_Category11,referral_path_Category12,referral_path_Category13,referral_path_Category2,referral_path_Category3,referral_path_Category4,referral_path_Category5,referral_path_Category6,referral_path_Category7,referral_path_Category8,referral_path_Category9,"
     ]
    }
   ],
   "source": [
    "for i in df_train.columns:\n",
    "    print(i,end=\",\")"
   ]
  },
  {
   "cell_type": "code",
   "execution_count": 56,
   "metadata": {},
   "outputs": [
    {
     "ename": "SyntaxError",
     "evalue": "invalid syntax (669105451.py, line 6)",
     "output_type": "error",
     "traceback": [
      "\u001b[0;36m  File \u001b[0;32m\"/tmp/ipykernel_4034320/669105451.py\"\u001b[0;36m, line \u001b[0;32m6\u001b[0m\n\u001b[0;31m    y_pred3,1\u001b[0m\n\u001b[0m          ^\u001b[0m\n\u001b[0;31mSyntaxError\u001b[0m\u001b[0;31m:\u001b[0m invalid syntax\n"
     ]
    }
   ],
   "source": [
    "from sklearn.metrics import mean_absolute_error\n",
    "\n",
    "# 예측값 배열의 리스트\n",
    "pred_arrays = [\n",
    "    y_pred2,0\n",
    "    y_pred3,1\n",
    "    y_pred4,2\n",
    "    y_pred5,3\n",
    "    y_pred7,4\n",
    "    y_pred8,5\n",
    "    y_pred9,6\n",
    "    # 여기에 다른 배열들 추가...\n",
    "]\n",
    "\n",
    "# 실제 값\n",
    "y_test = y_pred1  # 이 예제에서 y_test로 사용할 실제값 배열\n",
    "\n",
    "# 각 예측값 배열에 대해 MAE를 계산하고 저장\n",
    "mae_scores = []\n",
    "\n",
    "for i, preds in enumerate(pred_arrays):\n",
    "    mae = mean_absolute_error(y_test, preds)\n",
    "    mae_scores.append((i, mae))\n",
    "\n",
    "# MAE 점수가 높은 순서대로 정렬\n",
    "mae_scores_sorted = sorted(mae_scores, key=lambda x: x[1], reverse=True)\n",
    "\n",
    "# 정렬된 결과를 출력\n",
    "print(\"성능이 안 좋은 순서대로 배열의 인덱스와 MAE:\")\n",
    "for index, mae in mae_scores_sorted:\n",
    "    print(f\"인덱스: {index}, MAE: {mae}\")\n"
   ]
  },
  {
   "cell_type": "code",
   "execution_count": null,
   "metadata": {},
   "outputs": [],
   "source": []
  },
  {
   "cell_type": "code",
   "execution_count": null,
   "metadata": {},
   "outputs": [],
   "source": []
  }
 ],
 "metadata": {
  "kernelspec": {
   "display_name": "vpvenv",
   "language": "python",
   "name": "vpvenv"
  },
  "language_info": {
   "codemirror_mode": {
    "name": "ipython",
    "version": 3
   },
   "file_extension": ".py",
   "mimetype": "text/x-python",
   "name": "python",
   "nbconvert_exporter": "python",
   "pygments_lexer": "ipython3",
   "version": "3.7.6"
  }
 },
 "nbformat": 4,
 "nbformat_minor": 4
}
