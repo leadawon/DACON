{
 "cells": [
  {
   "cell_type": "code",
   "execution_count": 3,
   "metadata": {
    "collapsed": true,
    "jupyter": {
     "outputs_hidden": true
    }
   },
   "outputs": [
    {
     "ename": "AuthenticationError",
     "evalue": "Error code: 401 - {'error': {'message': 'Incorrect API key provided: sk-mW8Lt***************************************gS6Q. You can find your API key at https://platform.openai.com/account/api-keys.', 'type': 'invalid_request_error', 'param': None, 'code': 'invalid_api_key'}}",
     "output_type": "error",
     "traceback": [
      "\u001b[0;31m---------------------------------------------------------------------------\u001b[0m",
      "\u001b[0;31mAuthenticationError\u001b[0m                       Traceback (most recent call last)",
      "\u001b[0;32m/tmp/ipykernel_3296161/1300130409.py\u001b[0m in \u001b[0;36m<module>\u001b[0;34m\u001b[0m\n\u001b[1;32m     11\u001b[0m     \u001b[0mmodel\u001b[0m\u001b[0;34m=\u001b[0m\u001b[0;34m\"gpt-4\"\u001b[0m\u001b[0;34m,\u001b[0m\u001b[0;34m\u001b[0m\u001b[0;34m\u001b[0m\u001b[0m\n\u001b[1;32m     12\u001b[0m     \u001b[0mmessages\u001b[0m\u001b[0;34m=\u001b[0m\u001b[0;34m[\u001b[0m\u001b[0;34m{\u001b[0m\u001b[0;34m\"role\"\u001b[0m\u001b[0;34m:\u001b[0m \u001b[0;34m\"user\"\u001b[0m\u001b[0;34m,\u001b[0m \u001b[0;34m\"content\"\u001b[0m\u001b[0;34m:\u001b[0m \u001b[0;34m\"Say this is a test\"\u001b[0m\u001b[0;34m}\u001b[0m\u001b[0;34m]\u001b[0m\u001b[0;34m,\u001b[0m\u001b[0;34m\u001b[0m\u001b[0;34m\u001b[0m\u001b[0m\n\u001b[0;32m---> 13\u001b[0;31m     \u001b[0mstream\u001b[0m\u001b[0;34m=\u001b[0m\u001b[0;32mTrue\u001b[0m\u001b[0;34m,\u001b[0m\u001b[0;34m\u001b[0m\u001b[0;34m\u001b[0m\u001b[0m\n\u001b[0m\u001b[1;32m     14\u001b[0m )\n\u001b[1;32m     15\u001b[0m \u001b[0;34m\u001b[0m\u001b[0m\n",
      "\u001b[0;32m~/gitfiles/venvs/huggvenv/lib/python3.7/site-packages/openai/_utils/_utils.py\u001b[0m in \u001b[0;36mwrapper\u001b[0;34m(*args, **kwargs)\u001b[0m\n\u001b[1;32m    269\u001b[0m                         \u001b[0mmsg\u001b[0m \u001b[0;34m=\u001b[0m \u001b[0;34mf\"Missing required argument: {quote(missing[0])}\"\u001b[0m\u001b[0;34m\u001b[0m\u001b[0;34m\u001b[0m\u001b[0m\n\u001b[1;32m    270\u001b[0m                 \u001b[0;32mraise\u001b[0m \u001b[0mTypeError\u001b[0m\u001b[0;34m(\u001b[0m\u001b[0mmsg\u001b[0m\u001b[0;34m)\u001b[0m\u001b[0;34m\u001b[0m\u001b[0;34m\u001b[0m\u001b[0m\n\u001b[0;32m--> 271\u001b[0;31m             \u001b[0;32mreturn\u001b[0m \u001b[0mfunc\u001b[0m\u001b[0;34m(\u001b[0m\u001b[0;34m*\u001b[0m\u001b[0margs\u001b[0m\u001b[0;34m,\u001b[0m \u001b[0;34m**\u001b[0m\u001b[0mkwargs\u001b[0m\u001b[0;34m)\u001b[0m\u001b[0;34m\u001b[0m\u001b[0;34m\u001b[0m\u001b[0m\n\u001b[0m\u001b[1;32m    272\u001b[0m \u001b[0;34m\u001b[0m\u001b[0m\n\u001b[1;32m    273\u001b[0m         \u001b[0;32mreturn\u001b[0m \u001b[0mwrapper\u001b[0m  \u001b[0;31m# type: ignore\u001b[0m\u001b[0;34m\u001b[0m\u001b[0;34m\u001b[0m\u001b[0m\n",
      "\u001b[0;32m~/gitfiles/venvs/huggvenv/lib/python3.7/site-packages/openai/resources/chat/completions.py\u001b[0m in \u001b[0;36mcreate\u001b[0;34m(self, messages, model, frequency_penalty, function_call, functions, logit_bias, logprobs, max_tokens, n, presence_penalty, response_format, seed, stop, stream, temperature, tool_choice, tools, top_logprobs, top_p, user, extra_headers, extra_query, extra_body, timeout)\u001b[0m\n\u001b[1;32m    689\u001b[0m             \u001b[0mcast_to\u001b[0m\u001b[0;34m=\u001b[0m\u001b[0mChatCompletion\u001b[0m\u001b[0;34m,\u001b[0m\u001b[0;34m\u001b[0m\u001b[0;34m\u001b[0m\u001b[0m\n\u001b[1;32m    690\u001b[0m             \u001b[0mstream\u001b[0m\u001b[0;34m=\u001b[0m\u001b[0mstream\u001b[0m \u001b[0;32mor\u001b[0m \u001b[0;32mFalse\u001b[0m\u001b[0;34m,\u001b[0m\u001b[0;34m\u001b[0m\u001b[0;34m\u001b[0m\u001b[0m\n\u001b[0;32m--> 691\u001b[0;31m             \u001b[0mstream_cls\u001b[0m\u001b[0;34m=\u001b[0m\u001b[0mStream\u001b[0m\u001b[0;34m[\u001b[0m\u001b[0mChatCompletionChunk\u001b[0m\u001b[0;34m]\u001b[0m\u001b[0;34m,\u001b[0m\u001b[0;34m\u001b[0m\u001b[0;34m\u001b[0m\u001b[0m\n\u001b[0m\u001b[1;32m    692\u001b[0m         )\n\u001b[1;32m    693\u001b[0m \u001b[0;34m\u001b[0m\u001b[0m\n",
      "\u001b[0;32m~/gitfiles/venvs/huggvenv/lib/python3.7/site-packages/openai/_base_client.py\u001b[0m in \u001b[0;36mpost\u001b[0;34m(self, path, cast_to, body, options, files, stream, stream_cls)\u001b[0m\n\u001b[1;32m   1178\u001b[0m             \u001b[0mmethod\u001b[0m\u001b[0;34m=\u001b[0m\u001b[0;34m\"post\"\u001b[0m\u001b[0;34m,\u001b[0m \u001b[0murl\u001b[0m\u001b[0;34m=\u001b[0m\u001b[0mpath\u001b[0m\u001b[0;34m,\u001b[0m \u001b[0mjson_data\u001b[0m\u001b[0;34m=\u001b[0m\u001b[0mbody\u001b[0m\u001b[0;34m,\u001b[0m \u001b[0mfiles\u001b[0m\u001b[0;34m=\u001b[0m\u001b[0mto_httpx_files\u001b[0m\u001b[0;34m(\u001b[0m\u001b[0mfiles\u001b[0m\u001b[0;34m)\u001b[0m\u001b[0;34m,\u001b[0m \u001b[0;34m**\u001b[0m\u001b[0moptions\u001b[0m\u001b[0;34m\u001b[0m\u001b[0;34m\u001b[0m\u001b[0m\n\u001b[1;32m   1179\u001b[0m         )\n\u001b[0;32m-> 1180\u001b[0;31m         \u001b[0;32mreturn\u001b[0m \u001b[0mcast\u001b[0m\u001b[0;34m(\u001b[0m\u001b[0mResponseT\u001b[0m\u001b[0;34m,\u001b[0m \u001b[0mself\u001b[0m\u001b[0;34m.\u001b[0m\u001b[0mrequest\u001b[0m\u001b[0;34m(\u001b[0m\u001b[0mcast_to\u001b[0m\u001b[0;34m,\u001b[0m \u001b[0mopts\u001b[0m\u001b[0;34m,\u001b[0m \u001b[0mstream\u001b[0m\u001b[0;34m=\u001b[0m\u001b[0mstream\u001b[0m\u001b[0;34m,\u001b[0m \u001b[0mstream_cls\u001b[0m\u001b[0;34m=\u001b[0m\u001b[0mstream_cls\u001b[0m\u001b[0;34m)\u001b[0m\u001b[0;34m)\u001b[0m\u001b[0;34m\u001b[0m\u001b[0;34m\u001b[0m\u001b[0m\n\u001b[0m\u001b[1;32m   1181\u001b[0m \u001b[0;34m\u001b[0m\u001b[0m\n\u001b[1;32m   1182\u001b[0m     def patch(\n",
      "\u001b[0;32m~/gitfiles/venvs/huggvenv/lib/python3.7/site-packages/openai/_base_client.py\u001b[0m in \u001b[0;36mrequest\u001b[0;34m(self, cast_to, options, remaining_retries, stream, stream_cls)\u001b[0m\n\u001b[1;32m    872\u001b[0m             \u001b[0mstream\u001b[0m\u001b[0;34m=\u001b[0m\u001b[0mstream\u001b[0m\u001b[0;34m,\u001b[0m\u001b[0;34m\u001b[0m\u001b[0;34m\u001b[0m\u001b[0m\n\u001b[1;32m    873\u001b[0m             \u001b[0mstream_cls\u001b[0m\u001b[0;34m=\u001b[0m\u001b[0mstream_cls\u001b[0m\u001b[0;34m,\u001b[0m\u001b[0;34m\u001b[0m\u001b[0;34m\u001b[0m\u001b[0m\n\u001b[0;32m--> 874\u001b[0;31m             \u001b[0mremaining_retries\u001b[0m\u001b[0;34m=\u001b[0m\u001b[0mremaining_retries\u001b[0m\u001b[0;34m,\u001b[0m\u001b[0;34m\u001b[0m\u001b[0;34m\u001b[0m\u001b[0m\n\u001b[0m\u001b[1;32m    875\u001b[0m         )\n\u001b[1;32m    876\u001b[0m \u001b[0;34m\u001b[0m\u001b[0m\n",
      "\u001b[0;32m~/gitfiles/venvs/huggvenv/lib/python3.7/site-packages/openai/_base_client.py\u001b[0m in \u001b[0;36m_request\u001b[0;34m(self, cast_to, options, remaining_retries, stream, stream_cls)\u001b[0m\n\u001b[1;32m    958\u001b[0m \u001b[0;34m\u001b[0m\u001b[0m\n\u001b[1;32m    959\u001b[0m             \u001b[0mlog\u001b[0m\u001b[0;34m.\u001b[0m\u001b[0mdebug\u001b[0m\u001b[0;34m(\u001b[0m\u001b[0;34m\"Re-raising status error\"\u001b[0m\u001b[0;34m)\u001b[0m\u001b[0;34m\u001b[0m\u001b[0;34m\u001b[0m\u001b[0m\n\u001b[0;32m--> 960\u001b[0;31m             \u001b[0;32mraise\u001b[0m \u001b[0mself\u001b[0m\u001b[0;34m.\u001b[0m\u001b[0m_make_status_error_from_response\u001b[0m\u001b[0;34m(\u001b[0m\u001b[0merr\u001b[0m\u001b[0;34m.\u001b[0m\u001b[0mresponse\u001b[0m\u001b[0;34m)\u001b[0m \u001b[0;32mfrom\u001b[0m \u001b[0;32mNone\u001b[0m\u001b[0;34m\u001b[0m\u001b[0;34m\u001b[0m\u001b[0m\n\u001b[0m\u001b[1;32m    961\u001b[0m \u001b[0;34m\u001b[0m\u001b[0m\n\u001b[1;32m    962\u001b[0m         return self._process_response(\n",
      "\u001b[0;31mAuthenticationError\u001b[0m: Error code: 401 - {'error': {'message': 'Incorrect API key provided: sk-mW8Lt***************************************gS6Q. You can find your API key at https://platform.openai.com/account/api-keys.', 'type': 'invalid_request_error', 'param': None, 'code': 'invalid_api_key'}}"
     ]
    }
   ],
   "source": [
    "# from openai import OpenAI\n",
    "\n",
    "# # apikey.txt 파일에서 API 키를 읽습니다.\n",
    "# with open(\"./bigdata/apikey.txt\", \"r\") as file:\n",
    "#     api_key = file.read().strip()\n",
    "\n",
    "# # 읽은 API 키를 사용하여 클라이언트를 초기화합니다.\n",
    "# client = OpenAI(api_key=api_key)\n",
    "\n",
    "# stream = client.chat.completions.create(\n",
    "#     model=\"gpt-4\",\n",
    "#     messages=[{\"role\": \"user\", \"content\": \"Say this is a test\"}],\n",
    "#     stream=True,\n",
    "# )\n",
    "\n",
    "# for chunk in stream:\n",
    "#     if chunk.choices[0].delta.content is not None:\n",
    "#         print(chunk.choices[0].delta.content, end=\"\")\n"
   ]
  },
  {
   "cell_type": "code",
   "execution_count": 2,
   "metadata": {},
   "outputs": [
    {
     "ename": "SyntaxError",
     "evalue": "invalid syntax (311968507.py, line 1)",
     "output_type": "error",
     "traceback": [
      "\u001b[0;36m  File \u001b[0;32m\"/tmp/ipykernel_3386748/311968507.py\"\u001b[0;36m, line \u001b[0;32m1\u001b[0m\n\u001b[0;31m    제가 질문 과 답변을 드릴테니 답변에서 질문-답변 쌍을 만들어주세요. 질문은 이미 주어진 질문을 제외하고 답변을 보고 새로 생성해야합니다. 예를 들어서\u001b[0m\n\u001b[0m        ^\u001b[0m\n\u001b[0;31mSyntaxError\u001b[0m\u001b[0;31m:\u001b[0m invalid syntax\n"
     ]
    }
   ],
   "source": [
    "제가 질문 과 답변을 드릴테니 답변에서 질문-답변 쌍을 만들어주세요. 질문은 이미 주어진 질문을 제외하고 답변을 보고 새로 생성해야합니다. 예를 들어서\n",
    "\n",
    "번호1:\n",
    "질문1:\n",
    "철골구조는 어떤 방식이 있나요?\n",
    "질문2:\n",
    "철골구조의 다양한 방식이 무엇인가요?\n",
    "답변1:\n",
    "철골구조는 일반철골구조와 경량철골구조가 있습니다.\n",
    "답변2:\n",
    "철골구조는 일반철골구조와 경량철골구조가 있습니다. 일반철골구조는 주로 대형 건물이나 다층 주거 건물에 사용되며, 경량철골구조는 주로 주택이나 작은 상업 시설에 사용됩니다. 이 두 구조 방식은 건물의 규모와 용도에 따라 선택되어 적용됩니다.\n",
    "\n",
    "이렇게 주어지면 질문1과 2에 속하지 않지만 답변2에는일반철골구조와 경량철골구조에 대한 설명이 있습니다. 즉 일반철골구조와 경량철골구조에 대해서 묻는 질문과 이에대한 답변을 생성할 수 있습니다. 예시 답변을 보여드리겠습니다.\n",
    "\n",
    "\n",
    "생성번호1:\n",
    "질문1:\n",
    "일반철골구조는 어떤 건물 형태에 사용되나요?\n",
    "답변1:\n",
    "일반철골구조는 주로 대형 건물이나 다층 주거 건물에 사용됩니다.\n",
    "\n",
    "생성번호2:\n",
    "질문2:\n",
    "경량철골구조는 어떤 건물 형태에 사용되나요?\n",
    "답변2:\n",
    "경량철골구조는 주로 주택이나 작은 상업 시설에 사용됩니다.\n",
    "\n",
    "한 번호에 속한 두 질문에 대해서 답을 하는 네개의 답변을 드리겠습니다. 답변을 보고 주어진 질문과 다른 새로운 질문을 만들지 못하면 만들지 않아도 좋습니다. 또한, 답변에서 새로운 질문을 여러개 만들 수 있다면 여러개 만들어도 좋습니다. 당신은 네개의 답변을 그저 통합하는게 아니라 답변에서 새로운 질문을 만들고 그 질문에 답을 하는 답변을 추출해서 질문, 답변 쌍을 만드는 것입니다.  다음은 당신이 해줘야 되는 질문,답변을 드리겠습니다.\n",
    "\n"
   ]
  },
  {
   "cell_type": "code",
   "execution_count": 5,
   "metadata": {},
   "outputs": [],
   "source": [
    "# prompt generation\n",
    "\n",
    "import pandas as pd\n",
    "def read_input(path):\n",
    "    with open(\"bigdata/augmentation_org.txt\", \"w\") as file:\n",
    "        data = pd.read_csv(path)\n",
    "        input_list = []\n",
    "        cnt = 0\n",
    "        for _, row in data.iterrows():\n",
    "            cnt+=1\n",
    "#         for q_col in ['질문_1', '질문_2']:\n",
    "#             for a_col in ['답변_1', '답변_2', '답변_3', '답변_4', '답변_5']:\n",
    "            file.write(f\"이어서 드리겠습니다. 답변에서 새로운 질문, 답변쌍을 추출하기 어려우면 추출하지 않아도 되고 여러개를 추출할 수 있으면 여러개를 추출해야합니다. 한 번호당 생성번호는 0개에서 5개까지 추출가능합니다.\\n\")\n",
    "            file.write(f\"번호{cnt}:\\n\")\n",
    "            file.write(f\"질문1:\\n\")\n",
    "            file.write(row['질문_1'] + \"\\n\")\n",
    "            file.write(f\"질문2:\\n\")\n",
    "            file.write(row['질문_2'] + \"\\n\")\n",
    "            file.write(f\"답변1:\\n\")\n",
    "            file.write(row['답변_1'] + \"\\n\")\n",
    "            file.write(f\"답변2:\\n\")\n",
    "            file.write(row['답변_2'] + \"\\n\")\n",
    "            file.write(f\"답변3:\\n\")\n",
    "            file.write(row['답변_3'] + \"\\n\")\n",
    "            file.write(f\"답변4:\\n\")\n",
    "            file.write(row['답변_4'] + \"\\n\\n\\n\")\n",
    "read_input(\"bigdata/nobanmal/train.csv\")     "
   ]
  },
  {
   "cell_type": "code",
   "execution_count": 127,
   "metadata": {},
   "outputs": [],
   "source": [
    "# data preprocessing\n",
    "# 파일 열기\n",
    "import re\n",
    "questions = []\n",
    "answers = []"
   ]
  },
  {
   "cell_type": "code",
   "execution_count": 129,
   "metadata": {},
   "outputs": [],
   "source": [
    "\n",
    "\n",
    "\n",
    "def read_aug(questions,answers,num):\n",
    "    with open(f'./bigdata/augs_preprocessing/aug{num}.txt', 'r', encoding='utf-8') as file:\n",
    "\n",
    "        reading_mode = None  # 'question', 'answer' 또는 None\n",
    "        current_question = \"\"\n",
    "        current_answer = \"\"\n",
    "\n",
    "        for line in file:\n",
    "            # 질문 시작 확인\n",
    "\n",
    "\n",
    "            if '질문' in line and ':' in line:\n",
    "                if current_question:  # 이미 질문이 있으면 저장\n",
    "                    questions.append(current_question)\n",
    "                    current_question = \"\"\n",
    "                reading_mode = 'question'\n",
    "                continue\n",
    "\n",
    "            # 질문 끝 확인\n",
    "            if ('?' in line or '.' in line) and reading_mode == 'question':\n",
    "                current_question += line.strip()\n",
    "                questions.append(current_question)\n",
    "                current_question = \"\"\n",
    "                reading_mode = None\n",
    "                continue\n",
    "\n",
    "            # 답변 시작 확인\n",
    "            if '답변' in line and ':' in line:\n",
    "                if current_answer:  # 이미 답변이 있으면 저장\n",
    "                    answers.append(current_answer)\n",
    "                    current_answer = \"\"\n",
    "                reading_mode = 'answer'\n",
    "                continue\n",
    "\n",
    "            # 답변 읽기\n",
    "            if reading_mode == 'answer':\n",
    "                if not line.strip() or 'GPT' in line or re.search(r'번호\\d', line):  # 답변 끝 조건\n",
    "                    if current_answer:  # 답변이 있으면 저장\n",
    "                        answers.append(current_answer.strip())\n",
    "                        current_answer = \"\"\n",
    "                    reading_mode = None\n",
    "                    continue\n",
    "                else:\n",
    "                    current_answer += line"
   ]
  },
  {
   "cell_type": "code",
   "execution_count": 130,
   "metadata": {},
   "outputs": [],
   "source": [
    "num_arr = []\n",
    "for i in range(1,17):\n",
    "    if i<10:\n",
    "        read_aug(questions,answers,\"0\"+str(i))\n",
    "    else:\n",
    "        read_aug(questions,answers,str(i))\n",
    "        \n"
   ]
  },
  {
   "cell_type": "code",
   "execution_count": 131,
   "metadata": {},
   "outputs": [],
   "source": [
    "assert len(questions) == len(answers)"
   ]
  },
  {
   "cell_type": "code",
   "execution_count": 132,
   "metadata": {},
   "outputs": [],
   "source": [
    "# 결과 출력\n",
    "\n",
    "# for q, a in zip(questions, answers):\n",
    "#     print(\"Q:\", q)\n",
    "#     print(\"A:\", a)\n",
    "#     print(\"---\")\n"
   ]
  },
  {
   "cell_type": "code",
   "execution_count": 133,
   "metadata": {},
   "outputs": [
    {
     "name": "stdout",
     "output_type": "stream",
     "text": [
      "벽체 결로 방지를 위해 단열재를 미실하게 시공하는 것의 중요성은 무엇인가요?\n"
     ]
    }
   ],
   "source": [
    "print(questions[-1])"
   ]
  },
  {
   "cell_type": "code",
   "execution_count": 134,
   "metadata": {},
   "outputs": [
    {
     "name": "stdout",
     "output_type": "stream",
     "text": [
      "벽체 결로 방지를 위해 단열재를 미실하게 시공하는 것의 중요성은 결로가 생기는 벽체의 표면 온도를 노점온도 이상으로 유지하여 결로 현상을 방지하고, 실내의 습도 문제를 최소화하기 위함입니다. 노점온도 이상으로 벽체의 표면 온도를 유지함으로써 습기가 벽체 표면에 응축되는 것을 방지할 수 있습니다.\n"
     ]
    }
   ],
   "source": [
    "print(answers[-1])"
   ]
  },
  {
   "cell_type": "code",
   "execution_count": 135,
   "metadata": {},
   "outputs": [
    {
     "name": "stdout",
     "output_type": "stream",
     "text": [
      "CSV 파일이 생성되었습니다.\n"
     ]
    }
   ],
   "source": [
    "import csv\n",
    "\n",
    "# CSV 파일 생성 및 데이터 쓰기\n",
    "with open('./bigdata/augs_preprocessing/qa_aug.csv', 'w', newline='', encoding='utf-8') as file:\n",
    "    writer = csv.writer(file)\n",
    "    # CSV 파일의 헤더 작성\n",
    "    writer.writerow(['Question', 'Answer'])\n",
    "    \n",
    "    # 질문과 답변 쌍을 파일에 쓰기\n",
    "    for question, answer in zip(questions, answers):\n",
    "        writer.writerow([question, answer])\n",
    "\n",
    "print('CSV 파일이 생성되었습니다.')\n"
   ]
  },
  {
   "cell_type": "code",
   "execution_count": null,
   "metadata": {},
   "outputs": [],
   "source": []
  }
 ],
 "metadata": {
  "kernelspec": {
   "display_name": "myvenv",
   "language": "python",
   "name": "myvenv"
  },
  "language_info": {
   "codemirror_mode": {
    "name": "ipython",
    "version": 3
   },
   "file_extension": ".py",
   "mimetype": "text/x-python",
   "name": "python",
   "nbconvert_exporter": "python",
   "pygments_lexer": "ipython3",
   "version": "3.7.6"
  }
 },
 "nbformat": 4,
 "nbformat_minor": 4
}
