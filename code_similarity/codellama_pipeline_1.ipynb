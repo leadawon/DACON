{
 "cells": [
  {
   "cell_type": "code",
   "execution_count": 1,
   "metadata": {},
   "outputs": [
    {
     "name": "stderr",
     "output_type": "stream",
     "text": [
      "/home/leadawon5/decs_jupyter_lab/venvs311/llama2venv/lib/python3.11/site-packages/tqdm/auto.py:21: TqdmWarning: IProgress not found. Please update jupyter and ipywidgets. See https://ipywidgets.readthedocs.io/en/stable/user_install.html\n",
      "  from .autonotebook import tqdm as notebook_tqdm\n",
      "Loading checkpoint shards: 100%|██████████████████| 2/2 [00:06<00:00,  3.10s/it]\n"
     ]
    }
   ],
   "source": [
    "import os\n",
    "os.environ['CUDA_VISIBLE_DEVICES'] = '0'\n",
    "\n",
    "\n",
    "from transformers import AutoTokenizer\n",
    "import transformers\n",
    "import torch\n",
    "\n",
    "model = \"codellama/CodeLlama-7b-Instruct-hf\"\n",
    "\n",
    "tokenizer = AutoTokenizer.from_pretrained(model)\n",
    "pipeline = transformers.pipeline(\n",
    "    \"text-generation\",\n",
    "    model=model,\n",
    "    torch_dtype=torch.float16,\n",
    "    device_map=\"auto\",\n",
    ")\n",
    "\n",
    "\n"
   ]
  },
  {
   "cell_type": "code",
   "execution_count": 2,
   "metadata": {},
   "outputs": [
    {
     "name": "stderr",
     "output_type": "stream",
     "text": [
      "Truncation was not explicitly activated but `max_length` is provided a specific value, please use `truncation=True` to explicitly truncate examples to max length. Defaulting to 'longest_first' truncation strategy. If you encode pairs of sequences (GLUE-style) with the tokenizer you can select this strategy more precisely by providing a specific strategy to `truncation`.\n"
     ]
    },
    {
     "name": "stdout",
     "output_type": "stream",
     "text": [
      "pipeline start!!!\n",
      "Result: What do you need?\n",
      "\n",
      "### User Message\n"
     ]
    }
   ],
   "source": [
    "input_text = \"\"\"\n",
    "### System Prompt\n",
    "You are an intelligent programming assistant.\n",
    "\n",
    "### User Message\n",
    "Implement a linked list in C++\n",
    "\n",
    "### Assistant\n",
    "\"\"\"\n",
    "\n",
    "# 입력 텍스트의 토큰 수 계산\n",
    "input_tokens = tokenizer.encode(input_text, return_tensors=\"pt\")\n",
    "input_length = len(input_tokens[0])\n",
    "\n",
    "# 원하는 출력 토큰 수\n",
    "desired_output_length = 10\n",
    "\n",
    "# 전체 max_length 설정 (입력 + 출력)\n",
    "total_max_length = input_length + desired_output_length\n",
    "\n",
    "print(\"pipeline start!!!\")\n",
    "\n",
    "# 파이프라인 설정 (예시에서는 나머지 매개변수를 유지)\n",
    "sequences = pipeline(\n",
    "    input_text,\n",
    "    do_sample=True,\n",
    "    top_k=3,\n",
    "    num_return_sequences=1,\n",
    "    eos_token_id=tokenizer.eos_token_id,\n",
    "    pad_token_id=tokenizer.eos_token_id,\n",
    "    max_length=total_max_length,  # 수정된 부분\n",
    ")\n",
    "\n",
    "# 결과 출력\n",
    "for seq in sequences:\n",
    "    # 모델 출력에서 입력 텍스트 제거\n",
    "    result_text = seq['generated_text'][len(input_text):]\n",
    "    print(f\"Result: {result_text}\")"
   ]
  },
  {
   "cell_type": "code",
   "execution_count": null,
   "metadata": {},
   "outputs": [],
   "source": []
  },
  {
   "cell_type": "code",
   "execution_count": 3,
   "metadata": {},
   "outputs": [],
   "source": [
    "import pandas as pd\n",
    "import re\n",
    "from tqdm import tqdm\n",
    "\n",
    "def remove_comments(cpp_code):\n",
    "        # 멀티라인 주석 제거\n",
    "        code = re.sub(r'/\\*.*?\\*/', '', cpp_code, flags=re.DOTALL)\n",
    "        # 단일 라인 주석 제거\n",
    "        code = re.sub(r'//.*', '', code)\n",
    "        \n",
    "        # 문자열 내용 제거 (\" \" 안의 내용과 ' ' 안의 내용)\n",
    "        code = re.sub(r'\"(.*?)\"', '\"\"', code)\n",
    "        code = re.sub(r\"'(.*?)'\", \"''\", code)\n",
    "        # 빈 줄 제거\n",
    "        code = re.sub(r'\\n\\s*\\n', '\\n', code)\n",
    "        # 불필요한 공백 및 탭 변환 (연속된 공백을 하나의 공백으로)\n",
    "        code = re.sub(r'\\s+', ' ', code)\n",
    "        # 문자열 앞뒤 공백 제거\n",
    "        cleaned_code = code.strip()\n",
    "        \n",
    "        return cleaned_code"
   ]
  },
  {
   "cell_type": "code",
   "execution_count": 6,
   "metadata": {},
   "outputs": [],
   "source": [
    "TODAY = \"2024_03_10\"\n",
    "COUNT = 2"
   ]
  },
  {
   "cell_type": "code",
   "execution_count": null,
   "metadata": {},
   "outputs": [
    {
     "name": "stderr",
     "output_type": "stream",
     "text": [
      "  0%|                                                 | 0/29750 [00:00<?, ?it/s]/home/leadawon5/decs_jupyter_lab/venvs311/llama2venv/lib/python3.11/site-packages/transformers/pipelines/base.py:1157: UserWarning: You seem to be using the pipelines sequentially on GPU. In order to maximize efficiency please use a dataset\n",
      "  warnings.warn(\n",
      "  3%|█                                    | 855/29750 [05:43<3:22:41,  2.38it/s]"
     ]
    }
   ],
   "source": [
    "with open(f'./bigdata/llama2_submit/{TODAY}_b4bert_result_part{COUNT}.txt', 'w') as file:\n",
    "    pass\n",
    "\n",
    "\n",
    "# tokenizer와 model은 미리 정의되어 있어야 합니다.\n",
    "# device는 'cuda' 또는 'cpu'일 수 있습니다.\n",
    "\n",
    "def predict(model, tokenizer, test_data):\n",
    "    predictions = []\n",
    "    \n",
    "    \n",
    "    for index, row in tqdm(test_data.iterrows(), total=test_data.shape[0]):\n",
    "            \n",
    "        # inputs1 = tokenizer(row['code1'], return_tensors='pt', max_length=512, padding='max_length', truncation=True).to(device)\n",
    "        # inputs2 = tokenizer(row['code2'], return_tensors='pt', max_length=512, padding='max_length', truncation=True).to(device)\n",
    "        inputtexts = f\"\"\"\n",
    "<s>[INST] <<SYS>>\\\\nYou are an intelligent programming assistant capable of understanding and analyzing C++ code. Your task is to determine if two given pieces of code solve the same problem. Respond with \"Yes\" if they solve the same problem and \"No\" otherwise.\\\\n<</SYS>>\\\\n\\\\nFirst code: \\n{remove_comments(row['code1'])}\n",
    "Second code: \\n{remove_comments(row['code2'])}\\nDo these codes solve the same problem? Say yes or no.[/INST]\n",
    "\"\"\"            \n",
    "        \n",
    "        # 입력 텍스트의 토큰 수 계산\n",
    "        input_tokens = tokenizer.encode(inputtexts, return_tensors=\"pt\")\n",
    "        input_length = len(input_tokens[0])\n",
    "\n",
    "        # 원하는 출력 토큰 수\n",
    "        desired_output_length = 5\n",
    "\n",
    "        # 전체 max_length 설정 (입력 + 출력)\n",
    "        total_max_length = input_length + desired_output_length\n",
    "\n",
    "        # 파이프라인 설정 (예시에서는 나머지 매개변수를 유지)\n",
    "        sequences = pipeline(\n",
    "            inputtexts,\n",
    "            do_sample=False,\n",
    "            #top_k=1,\n",
    "            num_return_sequences=1,\n",
    "            eos_token_id=tokenizer.eos_token_id,\n",
    "            pad_token_id=tokenizer.eos_token_id,\n",
    "            max_length=total_max_length,  # 수정된 부분\n",
    "        )\n",
    "        for seq in sequences:\n",
    "            # 모델 출력에서 입력 텍스트 제거\n",
    "            result_text = seq['generated_text'][len(inputtexts):]\n",
    "            #result_text = seq['generated_text']\n",
    "            predictions.append(result_text)\n",
    "            with open(f'./bigdata/llama2_submit/{TODAY}_b4bert_result_part{COUNT}.txt', 'a') as file:\n",
    "                file.write(f'{index} : {result_text}\\n')\n",
    "    return predictions\n",
    "\n",
    "# 예제 사용\n",
    "test_data = pd.read_csv(F\"./bigdata/llama2/test_part{COUNT}.csv\")\n",
    "# 모델과 tokenizer가 정의되어 있어야 합니다.\n",
    "predictions = predict(model, tokenizer, test_data)\n",
    "\n",
    "# 결과를 제출 파일로 저장\n",
    "submission = pd.read_csv(f'./bigdata/llama2/sample_submission_part{COUNT}.csv')\n",
    "submission['similar'] = predictions\n",
    "submission.to_csv(f'./bigdata/llama2_submit/{TODAY}_predictions_b4bert_submit_part{COUNT}.csv', index=False)"
   ]
  },
  {
   "cell_type": "code",
   "execution_count": null,
   "metadata": {},
   "outputs": [],
   "source": []
  },
  {
   "cell_type": "code",
   "execution_count": null,
   "metadata": {},
   "outputs": [],
   "source": []
  },
  {
   "cell_type": "code",
   "execution_count": null,
   "metadata": {},
   "outputs": [],
   "source": [
    "f\"\"\"\n",
    "### System Prompt\n",
    "You are an intelligent programming assistant capable of understanding and analyzing C++ code. Your task is to determine if two given pieces of code solve the same problem. Respond with \"Yes\" if they solve the same problem and \"No\" otherwise.\n",
    "\n",
    "### Example 1\n",
    "First code: {code1_example_1}\n",
    "Second code: {code2_example_1}\n",
    "\n",
    "Do these codes solve the same problem?\n",
    "Assistant: Yes\n",
    "\n",
    "### Example 2\n",
    "First code: {code1_example_2}\n",
    "Second code: {code2_example_2}\n",
    "\n",
    "Do these codes solve the same problem?\n",
    "Assistant: No\n",
    "\n",
    "### Example 3\n",
    "First code: {code1_example_3}\n",
    "Second code: {code2_example_3}\n",
    "\n",
    "Do these codes solve the same problem?\n",
    "Assistant: Yes\n",
    "\n",
    "### User Message\n",
    "First code: {remove_comments(row['code1'])}\n",
    "Second code: {remove_comments(row['code2'])}\n",
    "\n",
    "Do these codes solve the same problem?\n",
    "### Assistant\n",
    "        \"\"\""
   ]
  },
  {
   "cell_type": "code",
   "execution_count": null,
   "metadata": {},
   "outputs": [],
   "source": []
  }
 ],
 "metadata": {
  "kernelspec": {
   "display_name": "py311llama2",
   "language": "python",
   "name": "py311llama2"
  },
  "language_info": {
   "codemirror_mode": {
    "name": "ipython",
    "version": 3
   },
   "file_extension": ".py",
   "mimetype": "text/x-python",
   "name": "python",
   "nbconvert_exporter": "python",
   "pygments_lexer": "ipython3",
   "version": "3.11.8"
  }
 },
 "nbformat": 4,
 "nbformat_minor": 4
}
