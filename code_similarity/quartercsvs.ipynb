{
 "cells": [
  {
   "cell_type": "code",
   "execution_count": 2,
   "metadata": {},
   "outputs": [],
   "source": [
    "import pandas as pd\n",
    "import numpy as np\n",
    "\n",
    "# 데이터 로드\n",
    "test_data = pd.read_csv(\"./bigdata/test.csv\")\n",
    "\n",
    "# 데이터를 4개의 부분으로 분할\n",
    "parts = np.array_split(test_data, 20)\n",
    "\n",
    "# 각 부분을 별도의 파일로 저장\n",
    "for i, part in enumerate(parts, start=1):\n",
    "    part.to_csv(f\"./bigdata/llama2/test_part{i}.csv\", index=False)"
   ]
  },
  {
   "cell_type": "code",
   "execution_count": 3,
   "metadata": {},
   "outputs": [],
   "source": [
    "# 제출 템플릿 로드\n",
    "submission_template = pd.read_csv(\"./bigdata/sample_submission.csv\")\n",
    "\n",
    "# 데이터를 4개의 부분으로 분할\n",
    "submission_parts = np.array_split(submission_template, 20)\n",
    "\n",
    "# 각 부분을 별도의 파일로 저장\n",
    "for i, part in enumerate(submission_parts, start=1):\n",
    "    part.to_csv(f\"./bigdata/llama2/sample_submission_part{i}.csv\", index=False)"
   ]
  },
  {
   "cell_type": "code",
   "execution_count": null,
   "metadata": {},
   "outputs": [],
   "source": []
  }
 ],
 "metadata": {
  "kernelspec": {
   "display_name": "vpvenv",
   "language": "python",
   "name": "vpvenv"
  },
  "language_info": {
   "codemirror_mode": {
    "name": "ipython",
    "version": 3
   },
   "file_extension": ".py",
   "mimetype": "text/x-python",
   "name": "python",
   "nbconvert_exporter": "python",
   "pygments_lexer": "ipython3",
   "version": "3.7.6"
  }
 },
 "nbformat": 4,
 "nbformat_minor": 4
}
